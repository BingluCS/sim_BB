{
 "cells": [
  {
   "cell_type": "code",
   "execution_count": 98,
   "metadata": {},
   "outputs": [
    {
     "name": "stdout",
     "output_type": "stream",
     "text": [
      "running!\n"
     ]
    }
   ],
   "source": [
    "import subprocess\n",
    "from apscheduler.schedulers.blocking import BlockingScheduler\n",
    "import json\n",
    "\n",
    "\n",
    "PFS = \"/home/ubutnu/hardDisk/PFS/nocompress/\"\n",
    "BB0 = \"/home/ubutnu/hardDisk/BB/nocompress/\"\n",
    "BB1 = '/home/ubutnu/hardDisk/BB/nocompress/'\n",
    "\n",
    "file_json = \"/home/ubutnu/Application/Neural-network/Cache/file_cache_nocompress.json\"\n",
    "threshold =   1024*1024*1024*2\n",
    "\n",
    "def init_bb():\n",
    "    command = \"ls -cr \" + BB1 + '* | grep -v \\'^' + BB1+ 'bk_\\''\n",
    "    result = subprocess.run(command,shell=True, capture_output=True, text=True)\n",
    "    file = result.stdout.strip().replace('\\n', ' ')\n",
    "    if len(file) != 0:\n",
    "        command = \"du -csb \" + file\n",
    "        result = subprocess.run(command,shell=True, capture_output=True, text=True)\n",
    "        output = result.stdout.strip().split()\n",
    "    else:\n",
    "        output = ['0','total']\n",
    "    \n",
    "    with open(file_json, 'r') as F:\n",
    "        data = json.load(F)\n",
    "    file = file.replace(BB1, ' ').split()\n",
    "    data['ALL']['size'] = float(output[-2])\n",
    "    data = {key: {'valid': 0 if key in file else 1, 'size': value['size']} for key, value in data.items()}\n",
    "\n",
    "    with open(file_json, 'w') as F:\n",
    "        json.dump(data, F, indent=4)\n",
    "    # with open(BB1, 'r') as F:\n",
    "    #     data = json.load(F)\n",
    "    print(\"running!\")\n",
    "    \n",
    "    \n",
    "if __name__ == \"__main__\":\n",
    "    # check_interval = 5\n",
    "    # scheduler = BlockingScheduler()\n",
    "    # scheduler.add_job(init_bb, 'interval', seconds=check_interval, args=[])\n",
    "    # scheduler.start()\n",
    "    init_bb()"
   ]
  }
 ],
 "metadata": {
  "kernelspec": {
   "display_name": "py38",
   "language": "python",
   "name": "python3"
  },
  "language_info": {
   "codemirror_mode": {
    "name": "ipython",
    "version": 3
   },
   "file_extension": ".py",
   "mimetype": "text/x-python",
   "name": "python",
   "nbconvert_exporter": "python",
   "pygments_lexer": "ipython3",
   "version": "3.8.16"
  }
 },
 "nbformat": 4,
 "nbformat_minor": 2
}
